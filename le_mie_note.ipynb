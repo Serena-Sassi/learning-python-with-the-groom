{
  "nbformat": 4,
  "nbformat_minor": 0,
  "metadata": {
    "colab": {
      "provenance": [],
      "collapsed_sections": [],
      "authorship_tag": "ABX9TyNGZ0W5q8/EaVgMfclUpq83",
      "include_colab_link": true
    },
    "kernelspec": {
      "name": "python3",
      "display_name": "Python 3"
    },
    "language_info": {
      "name": "python"
    }
  },
  "cells": [
    {
      "cell_type": "markdown",
      "metadata": {
        "id": "view-in-github",
        "colab_type": "text"
      },
      "source": [
        "<a href=\"https://colab.research.google.com/github/Serena-Sassi/learning-python-with-the-groom/blob/main/le_mie_note.ipynb\" target=\"_parent\"><img src=\"https://colab.research.google.com/assets/colab-badge.svg\" alt=\"Open In Colab\"/></a>"
      ]
    },
    {
      "cell_type": "markdown",
      "source": [
        "**Vedere il tipo**"
      ],
      "metadata": {
        "id": "5zFqatsIfye1"
      }
    },
    {
      "cell_type": "code",
      "source": [
        "x = 69\n",
        "print(type(x))\n",
        "\n",
        "x = 2.5\n",
        "print(type(x))\n",
        "\n",
        "x = \"ciao\"\n",
        "print(type(x))\n",
        "\n",
        "x = [1,2,3,4,5]\n",
        "print(type(x))\n",
        "\n",
        "x = True\n",
        "print(type(x))\n",
        "\n",
        "\n"
      ],
      "metadata": {
        "colab": {
          "base_uri": "https://localhost:8080/"
        },
        "id": "eYp4LMiZgnNj",
        "outputId": "ea4dd72d-7984-4c02-a051-b0b4d803ac19"
      },
      "execution_count": null,
      "outputs": [
        {
          "output_type": "stream",
          "name": "stdout",
          "text": [
            "<class 'int'>\n",
            "<class 'float'>\n",
            "<class 'str'>\n",
            "<class 'list'>\n",
            "<class 'bool'>\n"
          ]
        }
      ]
    },
    {
      "cell_type": "markdown",
      "source": [
        "**Operazioni comuni**"
      ],
      "metadata": {
        "id": "_NeK2tVahcNF"
      }
    },
    {
      "cell_type": "code",
      "source": [
        "print(3+3)\n",
        "print(3-3)\n",
        "print(3*3)\n",
        "print(3/3)\n",
        "print(3**3)  # elevazione a potenza\n",
        "print(5//2)  # divisione con arrotondamento per difetto (floor division)\n",
        "print (30%7)  # modulo (dà solo il resto della divisione tra due numeri)"
      ],
      "metadata": {
        "colab": {
          "base_uri": "https://localhost:8080/"
        },
        "id": "DiIV-P7Uhhot",
        "outputId": "602e1669-3b1e-43d6-e5b8-96e65634f959"
      },
      "execution_count": null,
      "outputs": [
        {
          "output_type": "stream",
          "name": "stdout",
          "text": [
            "6\n",
            "0\n",
            "9\n",
            "1.0\n",
            "27\n",
            "2\n",
            "2\n"
          ]
        }
      ]
    },
    {
      "cell_type": "markdown",
      "source": [
        "**Variabili e stringhe**\n",
        "\n"
      ],
      "metadata": {
        "id": "81r5j-T7m9eV"
      }
    },
    {
      "cell_type": "code",
      "source": [
        "x = 3.14\n",
        "pi = 4\n",
        "print(pi*3)\n",
        "\n",
        "val = 9.81\n",
        "print(type(val))\n",
        "\n",
        "frase = \"ciao pino!\"\n",
        "print(type(frase))\n",
        "pina = \"ciao \\\"pina\\\" come va?\"\n",
        "\n",
        "print(frase +\" \"+ pina)\n"
      ],
      "metadata": {
        "colab": {
          "base_uri": "https://localhost:8080/"
        },
        "id": "ImB1ZPOLnME5",
        "outputId": "00d33832-7160-419a-f827-1bac34433ab8"
      },
      "execution_count": 13,
      "outputs": [
        {
          "output_type": "stream",
          "name": "stdout",
          "text": [
            "12\n",
            "<class 'float'>\n",
            "<class 'str'>\n",
            "ciao pino! ciao \"pina\" come va?\n"
          ]
        }
      ]
    },
    {
      "cell_type": "markdown",
      "source": [
        "**Conversioni di tipo, print, input e primo programma**"
      ],
      "metadata": {
        "id": "zGuQ48tXpe0w"
      }
    },
    {
      "cell_type": "code",
      "source": [
        "age = 25\n",
        "text = \"La mia età è: \" \n",
        "print(text+str(age))  # per concatenare un numero ad una stringa \n",
        "\n",
        "a = \"2.5\"\n",
        "print(float(a))\n",
        "\n",
        "stella = \"13\"  # stringa\n",
        "type(stella)\n",
        "print(stella * 3)  # concatena 3 volte 13 perchè è una str e non un int\n",
        "\n",
        "print(int(stella) * 3)  # fa il calcolo perchè prima di * abbiamo trasformato\n",
        "                        # stella in un int\n",
        "\n",
        "print(\"Riga uno\\nRiga due\")  # per andare a capo \\n\n",
        "\n",
        "print('''Riga uno  \n",
        "Riga due''')  # oppure ''' frasi ''' \n",
        "\n",
        "x = input(\"num uno: \")\n",
        "y = input(\"num due: \")\n",
        "print(x+y)  # mette i due numeri concatenati perchè input prende solo str\n",
        "\n",
        "print(float(x)+ float(y))  # somma perchè con float() diventano float\n",
        "\n"
      ],
      "metadata": {
        "colab": {
          "base_uri": "https://localhost:8080/"
        },
        "id": "7Y9hY6sMqOZP",
        "outputId": "be610259-5514-4f95-8f57-9331c47088bf"
      },
      "execution_count": 47,
      "outputs": [
        {
          "output_type": "stream",
          "name": "stdout",
          "text": [
            "La mia età è: 25\n",
            "2.5\n",
            "131313\n",
            "39\n",
            "Riga uno\n",
            "Riga due\n",
            "Riga uno  \n",
            "Riga due\n",
            "num uno: 7\n",
            "num due: 8\n",
            "78\n",
            "15.0\n"
          ]
        }
      ]
    },
    {
      "cell_type": "markdown",
      "source": [
        "**Programmino**"
      ],
      "metadata": {
        "id": "DGWDP6bJwtSy"
      }
    },
    {
      "cell_type": "code",
      "source": [
        "nome_rob = \"Elisa\"\n",
        "age_rob = 16\n",
        "print(\"Ciao! Mi chiamo \" + nome_rob + \" e ho \" + str(age_rob) + \" anni\")  # metti spazi \n",
        "                             # se no il testo è attaccato\n",
        "utente = input(\" E tu come ti chiami? \")\n",
        "print(\"Piacere di conoscerti, \" + utente + \" !!\")\n",
        "age_utente = int(input(\"Quanti anni hai? \"))  # nuova variabile\n",
        "age_difference = age_utente - age_rob  # differenza età dei due\n",
        "if age_utente > age_rob :\n",
        "  print(str(age_utente) + \" anni?! Sono \" + str(age_difference) +\n",
        "        \"  anni più di me!\")  \n",
        "elif age_utente < age_rob  :\n",
        "  print(str(age_utente) + \" anni?! Sono \" + str(age_difference*(-1)) + \" anni meno di me!\" )\n",
        "elif age_difference== age_rob:  # == confronto \n",
        "  print( \" Fantastico, abbiamo la stessa età! \")"
      ],
      "metadata": {
        "colab": {
          "base_uri": "https://localhost:8080/"
        },
        "id": "75D7zF6iwwkd",
        "outputId": "3bb84791-d9a4-488b-c1ca-9dfc29af8d63"
      },
      "execution_count": 58,
      "outputs": [
        {
          "output_type": "stream",
          "name": "stdout",
          "text": [
            "Ciao! Mi chiamo Elisa e ho 16 anni\n",
            " E tu come ti chiami? Laura\n",
            "Piacere di conoscerti, Laura !!\n",
            "Quanti anni hai? 22\n",
            "22 anni?! Sono 6  anni più di me!\n"
          ]
        }
      ]
    },
    {
      "cell_type": "code",
      "source": [],
      "metadata": {
        "id": "me7DfgY-1ZD3"
      },
      "execution_count": null,
      "outputs": []
    }
  ]
}