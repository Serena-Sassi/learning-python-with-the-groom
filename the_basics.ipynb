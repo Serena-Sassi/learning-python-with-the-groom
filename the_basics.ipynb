{
  "cells": [
    {
      "cell_type": "markdown",
      "metadata": {
        "colab_type": "text",
        "id": "view-in-github"
      },
      "source": [
        "<a href=\"https://colab.research.google.com/github/Serena-Sassi/learning-python-with-the-groom/blob/main/the_basics.ipynb\" target=\"_parent\"><img src=\"https://colab.research.google.com/assets/colab-badge.svg\" alt=\"Open In Colab\"/></a>"
      ]
    },
    {
      "cell_type": "markdown",
      "metadata": {
        "id": "5zFqatsIfye1"
      },
      "source": [
        "**Vedere il tipo**"
      ]
    },
    {
      "cell_type": "code",
      "execution_count": 5,
      "metadata": {
        "colab": {
          "base_uri": "https://localhost:8080/"
        },
        "id": "eYp4LMiZgnNj",
        "outputId": "ea4dd72d-7984-4c02-a051-b0b4d803ac19"
      },
      "outputs": [
        {
          "name": "stdout",
          "output_type": "stream",
          "text": [
            "<class 'int'>\n",
            "<class 'float'>\n",
            "<class 'str'>\n",
            "<class 'list'>\n",
            "<class 'bool'>\n"
          ]
        }
      ],
      "source": [
        "x = 69\n",
        "print(type(x))\n",
        "\n",
        "x = 2.5\n",
        "print(type(x))\n",
        "\n",
        "x = \"ciao\"\n",
        "print(type(x))\n",
        "\n",
        "x = [1,2,3,4,5]\n",
        "print(type(x))\n",
        "\n",
        "x = True\n",
        "print(type(x))\n",
        "\n",
        "\n"
      ]
    },
    {
      "cell_type": "markdown",
      "metadata": {
        "id": "_NeK2tVahcNF"
      },
      "source": [
        "**Operazioni comuni**"
      ]
    },
    {
      "cell_type": "code",
      "execution_count": 6,
      "metadata": {
        "colab": {
          "base_uri": "https://localhost:8080/"
        },
        "id": "DiIV-P7Uhhot",
        "outputId": "602e1669-3b1e-43d6-e5b8-96e65634f959"
      },
      "outputs": [
        {
          "name": "stdout",
          "output_type": "stream",
          "text": [
            "6\n",
            "0\n",
            "9\n",
            "1.0\n",
            "27\n",
            "2\n",
            "2\n"
          ]
        }
      ],
      "source": [
        "print(3+3)\n",
        "print(3-3)\n",
        "print(3*3)\n",
        "print(3/3)\n",
        "print(3**3)  # elevazione a potenza\n",
        "print(5//2)  # divisione con arrotondamento per difetto (floor division)\n",
        "print (30%7)  # modulo (dà solo il resto della divisione tra due numeri)"
      ]
    },
    {
      "cell_type": "markdown",
      "metadata": {
        "id": "81r5j-T7m9eV"
      },
      "source": [
        "**Variabili e stringhe**\n",
        "\n"
      ]
    },
    {
      "cell_type": "code",
      "execution_count": 7,
      "metadata": {
        "colab": {
          "base_uri": "https://localhost:8080/"
        },
        "id": "ImB1ZPOLnME5",
        "outputId": "00d33832-7160-419a-f827-1bac34433ab8"
      },
      "outputs": [
        {
          "name": "stdout",
          "output_type": "stream",
          "text": [
            "12\n",
            "<class 'float'>\n",
            "<class 'str'>\n",
            "ciao pino! ciao \"pina\" come va?\n"
          ]
        }
      ],
      "source": [
        "x = 3.14\n",
        "pi = 4\n",
        "print(pi*3)\n",
        "\n",
        "val = 9.81\n",
        "print(type(val))\n",
        "\n",
        "frase = \"ciao pino!\"\n",
        "print(type(frase))\n",
        "pina = \"ciao \\\"pina\\\" come va?\"\n",
        "\n",
        "print(frase +\" \"+ pina)\n"
      ]
    },
    {
      "cell_type": "markdown",
      "metadata": {
        "id": "zGuQ48tXpe0w"
      },
      "source": [
        "**Conversioni di tipo, print, input e primo programma**"
      ]
    },
    {
      "cell_type": "code",
      "execution_count": 8,
      "metadata": {
        "colab": {
          "base_uri": "https://localhost:8080/"
        },
        "id": "7Y9hY6sMqOZP",
        "outputId": "be610259-5514-4f95-8f57-9331c47088bf"
      },
      "outputs": [
        {
          "name": "stdout",
          "output_type": "stream",
          "text": [
            "La mia età è: 25\n",
            "2.5\n",
            "131313\n",
            "39\n",
            "Riga uno\n",
            "Riga due\n",
            "Riga uno  \n",
            "Riga due\n",
            "12\n",
            "3.0\n"
          ]
        }
      ],
      "source": [
        "age = 25\n",
        "text = \"La mia età è: \" \n",
        "print(text+str(age))  # per concatenare un numero ad una stringa \n",
        "\n",
        "a = \"2.5\"\n",
        "print(float(a))\n",
        "\n",
        "stella = \"13\"  # stringa\n",
        "type(stella)\n",
        "print(stella * 3)  # concatena 3 volte 13 perchè è una str e non un int\n",
        "\n",
        "print(int(stella) * 3)  # fa il calcolo perchè prima di * abbiamo trasformato\n",
        "                        # stella in un int\n",
        "\n",
        "print(\"Riga uno\\nRiga due\")  # per andare a capo \\n\n",
        "\n",
        "print('''Riga uno  \n",
        "Riga due''')  # oppure ''' frasi ''' \n",
        "\n",
        "x = input(\"num uno: \")\n",
        "y = input(\"num due: \")\n",
        "print(x+y)  # mette i due numeri concatenati perchè input prende solo str\n",
        "\n",
        "print(float(x)+ float(y))  # somma perchè con float() diventano float\n",
        "\n"
      ]
    },
    {
      "cell_type": "markdown",
      "metadata": {
        "id": "DGWDP6bJwtSy"
      },
      "source": [
        "**Programmino**"
      ]
    },
    {
      "cell_type": "code",
      "execution_count": 9,
      "metadata": {
        "colab": {
          "base_uri": "https://localhost:8080/"
        },
        "id": "75D7zF6iwwkd",
        "outputId": "3bb84791-d9a4-488b-c1ca-9dfc29af8d63"
      },
      "outputs": [
        {
          "name": "stdout",
          "output_type": "stream",
          "text": [
            "Ciao! Mi chiamo Elisa e ho 16 anni\n",
            "Piacere di conoscerti, pino !!\n",
            "34 anni?! Sono 18  anni più di me!\n"
          ]
        }
      ],
      "source": [
        "nome_rob = \"Elisa\"\n",
        "age_rob = 16\n",
        "print(\"Ciao! Mi chiamo \" + nome_rob + \" e ho \" + str(age_rob) + \" anni\")  # metti spazi \n",
        "                             # se no il testo è attaccato\n",
        "utente = input(\" E tu come ti chiami? \")\n",
        "print(\"Piacere di conoscerti, \" + utente + \" !!\")\n",
        "age_utente = int(input(\"Quanti anni hai? \"))  # nuova variabile\n",
        "age_difference = age_utente - age_rob  # differenza età dei due\n",
        "if age_utente > age_rob :\n",
        "  print(str(age_utente) + \" anni?! Sono \" + str(age_difference) +\n",
        "        \"  anni più di me!\")  \n",
        "elif age_utente < age_rob  :\n",
        "  print(str(age_utente) + \" anni?! Sono \" + str(age_difference*(-1)) + \" anni meno di me!\" )\n",
        "elif age_difference== age_rob:  # == confronto \n",
        "  print( \" Fantastico, abbiamo la stessa età! \")"
      ]
    },
    {
      "cell_type": "markdown",
      "metadata": {
        "id": "fblGBdRX1KsR"
      },
      "source": [
        "**Controllo del flusso**"
      ]
    },
    {
      "cell_type": "code",
      "execution_count": 10,
      "metadata": {
        "colab": {
          "base_uri": "https://localhost:8080/"
        },
        "id": "kJamv6zN1O-6",
        "outputId": "1eb038ad-d048-45ad-b0de-da5e2ec0a9e1"
      },
      "outputs": [
        {
          "data": {
            "text/plain": [
              "bool"
            ]
          },
          "execution_count": 10,
          "metadata": {},
          "output_type": "execute_result"
        }
      ],
      "source": [
        "cancello = True\n",
        "type(cancello)"
      ]
    },
    {
      "cell_type": "markdown",
      "metadata": {
        "id": "vnyysQQA1UWg"
      },
      "source": [
        "**Operatori di comparazione**"
      ]
    },
    {
      "cell_type": "code",
      "execution_count": 12,
      "metadata": {
        "id": "EazHSsdm1XyI"
      },
      "outputs": [
        {
          "data": {
            "text/plain": [
              "False"
            ]
          },
          "execution_count": 12,
          "metadata": {},
          "output_type": "execute_result"
        }
      ],
      "source": [
        "x = 1   # assegnazione \n",
        "x == 2  # uguale a\n",
        "x != 2  # non uguale a\n",
        "x <= 2  # minore o uguale a\n",
        "5 == 5  # True\n",
        "5 == 4  # False"
      ]
    },
    {
      "cell_type": "markdown",
      "metadata": {
        "id": "q6SiW-yr1sPU"
      },
      "source": [
        "**AND, OR, NOT, TABELLE DI VERITA**"
      ]
    },
    {
      "cell_type": "markdown",
      "metadata": {
        "id": "D5AKtaxK12Z8"
      },
      "source": [
        "**AND**"
      ]
    },
    {
      "cell_type": "markdown",
      "metadata": {},
      "source": [
        "TRUE AND TRUE = TRUE\n",
        "TRUE AND FALSE = FALSE\n",
        "FALSE AND TRUE = FALSE\n",
        "FALSE AND FALSE = FALSE"
      ]
    },
    {
      "cell_type": "markdown",
      "metadata": {
        "id": "Z47sPeGg2I2e"
      },
      "source": [
        "**OR**"
      ]
    },
    {
      "cell_type": "markdown",
      "metadata": {},
      "source": [
        "TRUE OR FALSE = TRUE\n",
        "TRUE OR TRUE = TRUE\n",
        "FALSE OR TRUE = TRUE\n",
        "FALSE OR FALSE = FALSE"
      ]
    },
    {
      "cell_type": "markdown",
      "metadata": {
        "id": "luMUlJ3N2ZRf"
      },
      "source": [
        "**NOT**"
      ]
    },
    {
      "cell_type": "markdown",
      "metadata": {},
      "source": [
        "NOT TRUE = FALSE\n",
        "NOT FALSE = TRUE"
      ]
    },
    {
      "cell_type": "code",
      "execution_count": 14,
      "metadata": {
        "id": "S5n5qBMM2uxD"
      },
      "outputs": [
        {
          "data": {
            "text/plain": [
              "False"
            ]
          },
          "execution_count": 14,
          "metadata": {},
          "output_type": "execute_result"
        }
      ],
      "source": [
        "# and\n",
        "21 > 1 and 3 < 5  # True\n",
        "22 == 22 and 1 > 2  # False\n",
        "\n",
        "# or\n",
        "23 > 23 or 23 <= 25  # True\n",
        "4 == 5 or 5 == 6  # False\n",
        "\n",
        "#not\n",
        "not 3 == 3  # False"
      ]
    },
    {
      "cell_type": "markdown",
      "metadata": {
        "id": "mHvXkLvN3G24"
      },
      "source": [
        "**IF, ELIF, ELSE**"
      ]
    },
    {
      "cell_type": "code",
      "execution_count": 15,
      "metadata": {
        "id": "-QTjoW933Jsx"
      },
      "outputs": [
        {
          "name": "stdout",
          "output_type": "stream",
          "text": [
            "Puoi noleggiare una macchina\n"
          ]
        }
      ],
      "source": [
        "age = 19\n",
        "license = True\n",
        "\n",
        "if age >= 18 and license == True:\n",
        "  print(\"Puoi noleggiare una macchina\")\n",
        "elif age <= 18 and license == False:\n",
        "    print(\"prenditi prima la patente\")\n",
        "else :\n",
        "  print(\"ripassa tra qualche anno\")"
      ]
    },
    {
      "cell_type": "markdown",
      "metadata": {
        "id": "BKngxNKn3uX4"
      },
      "source": [
        "**WHILE, BREAK, CONTINUE**"
      ]
    },
    {
      "cell_type": "code",
      "execution_count": 16,
      "metadata": {
        "colab": {
          "base_uri": "https://localhost:8080/"
        },
        "id": "5bIaKkao3zTw",
        "outputId": "6015713e-73ff-4dce-d2f4-08e79647ab18"
      },
      "outputs": [
        {
          "name": "stdout",
          "output_type": "stream",
          "text": [
            "0\n",
            "1\n",
            "2\n",
            "3\n",
            "4\n",
            "5\n",
            "6\n",
            "7\n",
            "8\n",
            "9\n",
            "10\n"
          ]
        }
      ],
      "source": [
        "COUNTER = 0\n",
        "while COUNTER <= 10:\n",
        "  print(COUNTER)\n",
        "  COUNTER += 1  # numeri da 0 a 10"
      ]
    },
    {
      "cell_type": "code",
      "execution_count": 17,
      "metadata": {
        "colab": {
          "base_uri": "https://localhost:8080/"
        },
        "id": "RvjrZHmY3_lC",
        "outputId": "d54d6db0-9239-4371-95fc-ada67d2fc861"
      },
      "outputs": [
        {
          "name": "stdout",
          "output_type": "stream",
          "text": [
            "0\n",
            "1\n",
            "2\n",
            "3\n",
            "4\n",
            "5\n",
            "6\n",
            "7\n",
            "8\n",
            "9\n",
            "10\n",
            "11\n",
            "12\n",
            "13\n",
            "14\n",
            "15\n",
            "16\n",
            "17\n",
            "18\n",
            "19\n",
            "20\n",
            "21\n",
            "22\n",
            "23\n",
            "24\n",
            "25\n",
            "26\n",
            "27\n",
            "28\n",
            "29\n",
            "30\n",
            "31\n",
            "32\n",
            "33\n",
            "34\n",
            "35\n",
            "36\n",
            "37\n",
            "38\n",
            "39\n",
            "40\n",
            "41\n",
            "42\n",
            "43\n",
            "44\n",
            "45\n",
            "46\n",
            "47\n",
            "48\n",
            "49\n",
            "50\n",
            "sto uscendo dal loop\n"
          ]
        }
      ],
      "source": [
        "run = True\n",
        "counter = 0\n",
        "stop = 50\n",
        "\n",
        "while run == True:\n",
        "  print(counter)\n",
        "  counter += 1\n",
        "  if counter > stop:\n",
        "    print(\"sto uscendo dal loop\")\n",
        "    break  # senza premere Ctrl+C per arrestare il loop"
      ]
    },
    {
      "cell_type": "code",
      "execution_count": 18,
      "metadata": {
        "colab": {
          "base_uri": "https://localhost:8080/"
        },
        "id": "zk4TcbJy4p5W",
        "outputId": "874e4992-cf3f-45cb-bb43-650b8b5e6e34"
      },
      "outputs": [
        {
          "name": "stdout",
          "output_type": "stream",
          "text": [
            "1\n",
            "2\n",
            "sto saltando 3\n",
            "4\n",
            "5\n",
            "6\n",
            "7\n",
            "8\n",
            "9\n",
            "10\n"
          ]
        }
      ],
      "source": [
        "run = True\n",
        "skip = 3\n",
        "counter = 0\n",
        "\n",
        "while counter < 10:\n",
        "  counter += 1\n",
        "  if counter == skip:\n",
        "    print(\"sto saltando \" + str(skip))\n",
        "    continue\n",
        "  print(counter)"
      ]
    },
    {
      "cell_type": "markdown",
      "metadata": {
        "id": "shjSRMwg475o"
      },
      "source": [
        "**FOR and RANGE**"
      ]
    },
    {
      "cell_type": "code",
      "execution_count": 19,
      "metadata": {
        "colab": {
          "base_uri": "https://localhost:8080/"
        },
        "id": "FoZB_isw4_nh",
        "outputId": "4e913cac-eb42-4893-982b-88ad68bed1ac"
      },
      "outputs": [
        {
          "name": "stdout",
          "output_type": "stream",
          "text": [
            "0\n",
            "1\n",
            "2\n",
            "3\n",
            "4\n",
            "5\n",
            "6\n",
            "7\n",
            "8\n",
            "9\n",
            "10\n"
          ]
        }
      ],
      "source": [
        "# Per un numero specifico di cicli\n",
        "\n",
        "for number in range(11):  #number è la variabile\n",
        "    print(number)  # range imposta un intervallo di esecuzione ampio\n",
        "                   # quanto il parametro in ()"
      ]
    },
    {
      "cell_type": "markdown",
      "metadata": {
        "id": "REwkkMoK5VgY"
      },
      "source": [
        "Parametri di RANGE:\n",
        "1) START\n",
        "2) STOP\n",
        "3) STEP (avanzamento)\n"
      ]
    },
    {
      "cell_type": "code",
      "execution_count": 20,
      "metadata": {
        "colab": {
          "base_uri": "https://localhost:8080/"
        },
        "id": "soPZ8Q2f5i9E",
        "outputId": "ad92cee2-7204-4002-db98-d9155dd25e51"
      },
      "outputs": [
        {
          "name": "stdout",
          "output_type": "stream",
          "text": [
            "3\n",
            "5\n",
            "7\n",
            "9\n"
          ]
        }
      ],
      "source": [
        "for number in range(3,11,2):  # inizia da 3, avanza di 2, ferma a 9\n",
        "  print(number)"
      ]
    },
    {
      "cell_type": "markdown",
      "metadata": {
        "id": "0VartVWI5sY9"
      },
      "source": [
        "**Standard Library**"
      ]
    },
    {
      "cell_type": "code",
      "execution_count": 21,
      "metadata": {
        "colab": {
          "base_uri": "https://localhost:8080/"
        },
        "id": "vo9uYuft5vAO",
        "outputId": "04c9b20c-f95c-4d40-9a0f-6cf94dc018a2"
      },
      "outputs": [
        {
          "name": "stdout",
          "output_type": "stream",
          "text": [
            "39\n",
            "34\n",
            "8\n",
            "36\n",
            "15\n",
            "22\n",
            "50\n",
            "35\n",
            "39\n",
            "20\n"
          ]
        }
      ],
      "source": [
        "import random  # importare modulo random con import\n",
        "for number in range(10):\n",
        "  val = random.randint(1,50)  #range\n",
        "  print(val+1)"
      ]
    }
  ],
  "metadata": {
    "colab": {
      "collapsed_sections": [],
      "include_colab_link": true,
      "provenance": []
    },
    "kernelspec": {
      "display_name": "Python 3.10.8 64-bit (microsoft store)",
      "language": "python",
      "name": "python3"
    },
    "language_info": {
      "codemirror_mode": {
        "name": "ipython",
        "version": 3
      },
      "file_extension": ".py",
      "mimetype": "text/x-python",
      "name": "python",
      "nbconvert_exporter": "python",
      "pygments_lexer": "ipython3",
      "version": "3.10.8"
    },
    "vscode": {
      "interpreter": {
        "hash": "e849c11cc5519df10879affc80cfb534e784b0a0dbadd33651fef28746f61b40"
      }
    }
  },
  "nbformat": 4,
  "nbformat_minor": 0
}
