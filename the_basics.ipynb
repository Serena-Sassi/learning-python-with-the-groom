{
  "nbformat": 4,
  "nbformat_minor": 0,
  "metadata": {
    "colab": {
      "provenance": [],
      "collapsed_sections": [],
      "include_colab_link": true
    },
    "kernelspec": {
      "name": "python3",
      "display_name": "Python 3"
    },
    "language_info": {
      "name": "python"
    }
  },
  "cells": [
    {
      "cell_type": "markdown",
      "metadata": {
        "id": "view-in-github",
        "colab_type": "text"
      },
      "source": [
        "<a href=\"https://colab.research.google.com/github/Serena-Sassi/learning-python-with-the-groom/blob/main/the_basics.ipynb\" target=\"_parent\"><img src=\"https://colab.research.google.com/assets/colab-badge.svg\" alt=\"Open In Colab\"/></a>"
      ]
    },
    {
      "cell_type": "markdown",
      "source": [
        "**Vedere il tipo**"
      ],
      "metadata": {
        "id": "5zFqatsIfye1"
      }
    },
    {
      "cell_type": "code",
      "source": [
        "x = 69\n",
        "print(type(x))\n",
        "\n",
        "x = 2.5\n",
        "print(type(x))\n",
        "\n",
        "x = \"ciao\"\n",
        "print(type(x))\n",
        "\n",
        "x = [1,2,3,4,5]\n",
        "print(type(x))\n",
        "\n",
        "x = True\n",
        "print(type(x))\n",
        "\n",
        "\n"
      ],
      "metadata": {
        "colab": {
          "base_uri": "https://localhost:8080/"
        },
        "id": "eYp4LMiZgnNj",
        "outputId": "ea4dd72d-7984-4c02-a051-b0b4d803ac19"
      },
      "execution_count": null,
      "outputs": [
        {
          "output_type": "stream",
          "name": "stdout",
          "text": [
            "<class 'int'>\n",
            "<class 'float'>\n",
            "<class 'str'>\n",
            "<class 'list'>\n",
            "<class 'bool'>\n"
          ]
        }
      ]
    },
    {
      "cell_type": "markdown",
      "source": [
        "**Operazioni comuni**"
      ],
      "metadata": {
        "id": "_NeK2tVahcNF"
      }
    },
    {
      "cell_type": "code",
      "source": [
        "print(3+3)\n",
        "print(3-3)\n",
        "print(3*3)\n",
        "print(3/3)\n",
        "print(3**3)  # elevazione a potenza\n",
        "print(5//2)  # divisione con arrotondamento per difetto (floor division)\n",
        "print (30%7)  # modulo (dà solo il resto della divisione tra due numeri)"
      ],
      "metadata": {
        "colab": {
          "base_uri": "https://localhost:8080/"
        },
        "id": "DiIV-P7Uhhot",
        "outputId": "602e1669-3b1e-43d6-e5b8-96e65634f959"
      },
      "execution_count": null,
      "outputs": [
        {
          "output_type": "stream",
          "name": "stdout",
          "text": [
            "6\n",
            "0\n",
            "9\n",
            "1.0\n",
            "27\n",
            "2\n",
            "2\n"
          ]
        }
      ]
    },
    {
      "cell_type": "markdown",
      "source": [
        "**Variabili e stringhe**\n",
        "\n"
      ],
      "metadata": {
        "id": "81r5j-T7m9eV"
      }
    },
    {
      "cell_type": "code",
      "source": [
        "x = 3.14\n",
        "pi = 4\n",
        "print(pi*3)\n",
        "\n",
        "val = 9.81\n",
        "print(type(val))\n",
        "\n",
        "frase = \"ciao pino!\"\n",
        "print(type(frase))\n",
        "pina = \"ciao \\\"pina\\\" come va?\"\n",
        "\n",
        "print(frase +\" \"+ pina)\n"
      ],
      "metadata": {
        "colab": {
          "base_uri": "https://localhost:8080/"
        },
        "id": "ImB1ZPOLnME5",
        "outputId": "00d33832-7160-419a-f827-1bac34433ab8"
      },
      "execution_count": null,
      "outputs": [
        {
          "output_type": "stream",
          "name": "stdout",
          "text": [
            "12\n",
            "<class 'float'>\n",
            "<class 'str'>\n",
            "ciao pino! ciao \"pina\" come va?\n"
          ]
        }
      ]
    },
    {
      "cell_type": "markdown",
      "source": [
        "**Conversioni di tipo, print, input e primo programma**"
      ],
      "metadata": {
        "id": "zGuQ48tXpe0w"
      }
    },
    {
      "cell_type": "code",
      "source": [
        "age = 25\n",
        "text = \"La mia età è: \" \n",
        "print(text+str(age))  # per concatenare un numero ad una stringa \n",
        "\n",
        "a = \"2.5\"\n",
        "print(float(a))\n",
        "\n",
        "stella = \"13\"  # stringa\n",
        "type(stella)\n",
        "print(stella * 3)  # concatena 3 volte 13 perchè è una str e non un int\n",
        "\n",
        "print(int(stella) * 3)  # fa il calcolo perchè prima di * abbiamo trasformato\n",
        "                        # stella in un int\n",
        "\n",
        "print(\"Riga uno\\nRiga due\")  # per andare a capo \\n\n",
        "\n",
        "print('''Riga uno  \n",
        "Riga due''')  # oppure ''' frasi ''' \n",
        "\n",
        "x = input(\"num uno: \")\n",
        "y = input(\"num due: \")\n",
        "print(x+y)  # mette i due numeri concatenati perchè input prende solo str\n",
        "\n",
        "print(float(x)+ float(y))  # somma perchè con float() diventano float\n",
        "\n"
      ],
      "metadata": {
        "colab": {
          "base_uri": "https://localhost:8080/"
        },
        "id": "7Y9hY6sMqOZP",
        "outputId": "be610259-5514-4f95-8f57-9331c47088bf"
      },
      "execution_count": null,
      "outputs": [
        {
          "output_type": "stream",
          "name": "stdout",
          "text": [
            "La mia età è: 25\n",
            "2.5\n",
            "131313\n",
            "39\n",
            "Riga uno\n",
            "Riga due\n",
            "Riga uno  \n",
            "Riga due\n",
            "num uno: 7\n",
            "num due: 8\n",
            "78\n",
            "15.0\n"
          ]
        }
      ]
    },
    {
      "cell_type": "markdown",
      "source": [
        "**Programmino**"
      ],
      "metadata": {
        "id": "DGWDP6bJwtSy"
      }
    },
    {
      "cell_type": "code",
      "source": [
        "nome_rob = \"Elisa\"\n",
        "age_rob = 16\n",
        "print(\"Ciao! Mi chiamo \" + nome_rob + \" e ho \" + str(age_rob) + \" anni\")  # metti spazi \n",
        "                             # se no il testo è attaccato\n",
        "utente = input(\" E tu come ti chiami? \")\n",
        "print(\"Piacere di conoscerti, \" + utente + \" !!\")\n",
        "age_utente = int(input(\"Quanti anni hai? \"))  # nuova variabile\n",
        "age_difference = age_utente - age_rob  # differenza età dei due\n",
        "if age_utente > age_rob :\n",
        "  print(str(age_utente) + \" anni?! Sono \" + str(age_difference) +\n",
        "        \"  anni più di me!\")  \n",
        "elif age_utente < age_rob  :\n",
        "  print(str(age_utente) + \" anni?! Sono \" + str(age_difference*(-1)) + \" anni meno di me!\" )\n",
        "elif age_difference== age_rob:  # == confronto \n",
        "  print( \" Fantastico, abbiamo la stessa età! \")"
      ],
      "metadata": {
        "colab": {
          "base_uri": "https://localhost:8080/"
        },
        "id": "75D7zF6iwwkd",
        "outputId": "3bb84791-d9a4-488b-c1ca-9dfc29af8d63"
      },
      "execution_count": null,
      "outputs": [
        {
          "output_type": "stream",
          "name": "stdout",
          "text": [
            "Ciao! Mi chiamo Elisa e ho 16 anni\n",
            " E tu come ti chiami? Laura\n",
            "Piacere di conoscerti, Laura !!\n",
            "Quanti anni hai? 22\n",
            "22 anni?! Sono 6  anni più di me!\n"
          ]
        }
      ]
    },
    {
      "cell_type": "markdown",
      "source": [
        "**Controllo del flusso**"
      ],
      "metadata": {
        "id": "fblGBdRX1KsR"
      }
    },
    {
      "cell_type": "code",
      "source": [
        "cancello = True\n",
        "type(cancello)"
      ],
      "metadata": {
        "colab": {
          "base_uri": "https://localhost:8080/"
        },
        "id": "kJamv6zN1O-6",
        "outputId": "1eb038ad-d048-45ad-b0de-da5e2ec0a9e1"
      },
      "execution_count": null,
      "outputs": [
        {
          "output_type": "execute_result",
          "data": {
            "text/plain": [
              "bool"
            ]
          },
          "metadata": {},
          "execution_count": 1
        }
      ]
    },
    {
      "cell_type": "markdown",
      "source": [
        "**Operatori di comparazione**"
      ],
      "metadata": {
        "id": "vnyysQQA1UWg"
      }
    },
    {
      "cell_type": "code",
      "source": [
        "x == 2  # uguale a\n",
        "x != 2  # non uguale a\n",
        "x <= 2  # minore o uguale a\n",
        "5 == 5  # True\n",
        "5 == 4  # False"
      ],
      "metadata": {
        "id": "EazHSsdm1XyI"
      },
      "execution_count": null,
      "outputs": []
    },
    {
      "cell_type": "markdown",
      "source": [
        "**AND, OR, NOT, TABELLE DI VERITA**"
      ],
      "metadata": {
        "id": "q6SiW-yr1sPU"
      }
    },
    {
      "cell_type": "markdown",
      "source": [
        "**AND**"
      ],
      "metadata": {
        "id": "D5AKtaxK12Z8"
      }
    },
    {
      "cell_type": "code",
      "source": [
        "TRUE AND TRUE = TRUE\n",
        "TRUE AND FALSE = FALSE\n",
        "FALSE AND TRUE = FALSE\n",
        "FALSE AND FALSE = FALSE"
      ],
      "metadata": {
        "id": "yBCOR5_511Fk"
      },
      "execution_count": null,
      "outputs": []
    },
    {
      "cell_type": "markdown",
      "source": [
        "**OR**"
      ],
      "metadata": {
        "id": "Z47sPeGg2I2e"
      }
    },
    {
      "cell_type": "code",
      "source": [
        "TRUE OR FALSE = TRUE\n",
        "TRUE OR TRUE = TRUE\n",
        "FALSE OR TRUE = TRUE\n",
        "FALSE OR FALSE = FALSE"
      ],
      "metadata": {
        "id": "l3tZRPO_2gDv"
      },
      "execution_count": null,
      "outputs": []
    },
    {
      "cell_type": "markdown",
      "source": [
        "**NOT**"
      ],
      "metadata": {
        "id": "luMUlJ3N2ZRf"
      }
    },
    {
      "cell_type": "code",
      "source": [
        "NOT TRUE = FALSE\n",
        "NOT FALSE = TRUE"
      ],
      "metadata": {
        "id": "2_oxzygx2qik"
      },
      "execution_count": null,
      "outputs": []
    },
    {
      "cell_type": "code",
      "source": [
        "# and\n",
        "21 > 1 and 3 < 5  # True\n",
        "22 == 22 and 1 > 2  # False\n",
        "\n",
        "# or\n",
        "23 > 23 or 23 <= 25  # True\n",
        "4 == 5 or 5 == 6  # False\n",
        "\n",
        "#not\n",
        "not 3 == 3  # False"
      ],
      "metadata": {
        "id": "S5n5qBMM2uxD"
      },
      "execution_count": null,
      "outputs": []
    },
    {
      "cell_type": "markdown",
      "source": [
        "**IF, ELIF, ELSE**"
      ],
      "metadata": {
        "id": "mHvXkLvN3G24"
      }
    },
    {
      "cell_type": "code",
      "source": [
        "age = 19\n",
        "lecense = True\n",
        "\n",
        "if age >= 18 and licence == True:\n",
        "  print(\"Puoi noleggiare una macchina\")\n",
        "elif age <= 18 and licence == False:\n",
        "    print(\"prenditi prima la patente\")\n",
        "else :\n",
        "  print(\"ripassa tra qualche anno\")"
      ],
      "metadata": {
        "id": "-QTjoW933Jsx"
      },
      "execution_count": null,
      "outputs": []
    },
    {
      "cell_type": "markdown",
      "source": [
        "**WHILE, BREAK, CONTINUE**"
      ],
      "metadata": {
        "id": "BKngxNKn3uX4"
      }
    },
    {
      "cell_type": "code",
      "source": [
        "COUNTER = 0\n",
        "while COUNTER <= 10:\n",
        "  print(COUNTER)\n",
        "  COUNTER += 1  # numeri da 0 a 10"
      ],
      "metadata": {
        "colab": {
          "base_uri": "https://localhost:8080/"
        },
        "id": "5bIaKkao3zTw",
        "outputId": "6015713e-73ff-4dce-d2f4-08e79647ab18"
      },
      "execution_count": null,
      "outputs": [
        {
          "output_type": "stream",
          "name": "stdout",
          "text": [
            "0\n",
            "1\n",
            "2\n",
            "3\n",
            "4\n",
            "5\n",
            "6\n",
            "7\n",
            "8\n",
            "9\n",
            "10\n"
          ]
        }
      ]
    },
    {
      "cell_type": "code",
      "source": [
        "run = True\n",
        "counter = 0\n",
        "stop = 50\n",
        "\n",
        "while run == True:\n",
        "  print(counter)\n",
        "  counter += 1\n",
        "  if counter > stop:\n",
        "    print(\"sto uscendo dal loop\")\n",
        "    break  # senza premere Ctrl+C per arrestare il loop"
      ],
      "metadata": {
        "colab": {
          "base_uri": "https://localhost:8080/"
        },
        "id": "RvjrZHmY3_lC",
        "outputId": "d54d6db0-9239-4371-95fc-ada67d2fc861"
      },
      "execution_count": null,
      "outputs": [
        {
          "output_type": "stream",
          "name": "stdout",
          "text": [
            "0\n",
            "1\n",
            "2\n",
            "3\n",
            "4\n",
            "5\n",
            "6\n",
            "7\n",
            "8\n",
            "9\n",
            "10\n",
            "11\n",
            "12\n",
            "13\n",
            "14\n",
            "15\n",
            "16\n",
            "17\n",
            "18\n",
            "19\n",
            "20\n",
            "21\n",
            "22\n",
            "23\n",
            "24\n",
            "25\n",
            "26\n",
            "27\n",
            "28\n",
            "29\n",
            "30\n",
            "31\n",
            "32\n",
            "33\n",
            "34\n",
            "35\n",
            "36\n",
            "37\n",
            "38\n",
            "39\n",
            "40\n",
            "41\n",
            "42\n",
            "43\n",
            "44\n",
            "45\n",
            "46\n",
            "47\n",
            "48\n",
            "49\n",
            "50\n",
            "sto uscendo dal loop\n"
          ]
        }
      ]
    },
    {
      "cell_type": "code",
      "source": [
        "run = True\n",
        "skip = 3\n",
        "counter = 0\n",
        "\n",
        "while counter < 10:\n",
        "  counter += 1\n",
        "  if counter == skip:\n",
        "    print(\"sto saltando \" + str(skip))\n",
        "    continue\n",
        "  print(counter)"
      ],
      "metadata": {
        "colab": {
          "base_uri": "https://localhost:8080/"
        },
        "id": "zk4TcbJy4p5W",
        "outputId": "874e4992-cf3f-45cb-bb43-650b8b5e6e34"
      },
      "execution_count": null,
      "outputs": [
        {
          "output_type": "stream",
          "name": "stdout",
          "text": [
            "1\n",
            "2\n",
            "sto saltando 3\n",
            "4\n",
            "5\n",
            "6\n",
            "7\n",
            "8\n",
            "9\n",
            "10\n"
          ]
        }
      ]
    },
    {
      "cell_type": "markdown",
      "source": [
        "**FOR and RANGE**"
      ],
      "metadata": {
        "id": "shjSRMwg475o"
      }
    },
    {
      "cell_type": "code",
      "source": [
        "# Per un numero specifico di cicli\n",
        "\n",
        "for number in range(11):  #number è la variabile\n",
        "    print(number)  # range imposta un intervallo di esecuzione ampio\n",
        "                   # quanto il parametro in ()"
      ],
      "metadata": {
        "colab": {
          "base_uri": "https://localhost:8080/"
        },
        "id": "FoZB_isw4_nh",
        "outputId": "4e913cac-eb42-4893-982b-88ad68bed1ac"
      },
      "execution_count": null,
      "outputs": [
        {
          "output_type": "stream",
          "name": "stdout",
          "text": [
            "0\n",
            "1\n",
            "2\n",
            "3\n",
            "4\n",
            "5\n",
            "6\n",
            "7\n",
            "8\n",
            "9\n",
            "10\n"
          ]
        }
      ]
    },
    {
      "cell_type": "markdown",
      "source": [
        "Parametri di RANGE:\n",
        "1) START\n",
        "2) STOP\n",
        "3) STEP (avanzamento)\n"
      ],
      "metadata": {
        "id": "REwkkMoK5VgY"
      }
    },
    {
      "cell_type": "code",
      "source": [
        "for number in range(3,11,2):  # inizia da 3, avanza di 2, ferma a 9\n",
        "  print(number)"
      ],
      "metadata": {
        "colab": {
          "base_uri": "https://localhost:8080/"
        },
        "id": "soPZ8Q2f5i9E",
        "outputId": "ad92cee2-7204-4002-db98-d9155dd25e51"
      },
      "execution_count": null,
      "outputs": [
        {
          "output_type": "stream",
          "name": "stdout",
          "text": [
            "3\n",
            "5\n",
            "7\n",
            "9\n"
          ]
        }
      ]
    },
    {
      "cell_type": "markdown",
      "source": [
        "**Standard Library**"
      ],
      "metadata": {
        "id": "0VartVWI5sY9"
      }
    },
    {
      "cell_type": "code",
      "source": [
        "import random  # importare modulo random con import\n",
        "for number in range(10):\n",
        "  val = random.randint(1,50)  #range\n",
        "  print(val)"
      ],
      "metadata": {
        "colab": {
          "base_uri": "https://localhost:8080/"
        },
        "id": "vo9uYuft5vAO",
        "outputId": "04c9b20c-f95c-4d40-9a0f-6cf94dc018a2"
      },
      "execution_count": null,
      "outputs": [
        {
          "output_type": "stream",
          "name": "stdout",
          "text": [
            "32\n",
            "40\n",
            "30\n",
            "23\n",
            "49\n",
            "24\n",
            "6\n",
            "17\n",
            "41\n",
            "4\n"
          ]
        }
      ]
    }
  ]
}